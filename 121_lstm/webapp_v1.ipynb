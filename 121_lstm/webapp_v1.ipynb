{
 "cells": [
  {
   "cell_type": "code",
   "execution_count": 28,
   "metadata": {},
   "outputs": [
    {
     "data": {
      "text/html": [
       "<script type=\"text/javascript\">window.PlotlyConfig = {MathJaxConfig: 'local'};</script><script type=\"text/javascript\">if (window.MathJax) {MathJax.Hub.Config({SVG: {font: \"STIX-Web\"}});}</script><script>requirejs.config({paths: { 'plotly': ['https://cdn.plot.ly/plotly-latest.min']},});if(!window._Plotly) {require(['plotly'],function(plotly) {window._Plotly=plotly;});}</script>"
      ],
      "text/vnd.plotly.v1+html": [
       "<script type=\"text/javascript\">window.PlotlyConfig = {MathJaxConfig: 'local'};</script><script type=\"text/javascript\">if (window.MathJax) {MathJax.Hub.Config({SVG: {font: \"STIX-Web\"}});}</script><script>requirejs.config({paths: { 'plotly': ['https://cdn.plot.ly/plotly-latest.min']},});if(!window._Plotly) {require(['plotly'],function(plotly) {window._Plotly=plotly;});}</script>"
      ]
     },
     "metadata": {},
     "output_type": "display_data"
    }
   ],
   "source": [
    "from math import sqrt\n",
    "from numpy import concatenate\n",
    "from matplotlib import pyplot\n",
    "import pandas as pd\n",
    "from datetime import datetime\n",
    "from sklearn.preprocessing import MinMaxScaler\n",
    "from sklearn.preprocessing import LabelEncoder\n",
    "from sklearn.metrics import mean_squared_error\n",
    "from keras.models import Sequential\n",
    "from keras.layers import Dense\n",
    "from keras.layers import LSTM\n",
    "import plotly.offline as py\n",
    "import plotly.graph_objs as go\n",
    "import numpy as np\n",
    "import seaborn as sns\n",
    "py.init_notebook_mode(connected=True)\n",
    "%matplotlib inline"
   ]
  },
  {
   "cell_type": "code",
   "execution_count": 29,
   "metadata": {},
   "outputs": [],
   "source": [
    "data = pd.read_csv(filepath_or_buffer=\"./Data/clean_data_new.csv\", index_col=\"date\")"
   ]
  },
  {
   "cell_type": "code",
   "execution_count": 30,
   "metadata": {},
   "outputs": [
    {
     "name": "stdout",
     "output_type": "stream",
     "text": [
      "<class 'pandas.core.frame.DataFrame'>\n",
      "Int64Index: 7931 entries, 19870520 to 20181102\n",
      "Data columns (total 8 columns):\n",
      "TCMNOM_Y10          7931 non-null float64\n",
      "TCMNOM_Y2           7931 non-null float64\n",
      "DCOILBRENTEU        7931 non-null float64\n",
      "spindx              7931 non-null float64\n",
      "GOLDPMGBD228NLBM    7931 non-null float64\n",
      "exalus              7931 non-null float64\n",
      "exjpus              7931 non-null float64\n",
      "exukus              7931 non-null float64\n",
      "dtypes: float64(8)\n",
      "memory usage: 557.6 KB\n"
     ]
    }
   ],
   "source": [
    "data = data.apply(pd.to_numeric, errors = \"coerce\")\n",
    "data.info()"
   ]
  },
  {
   "cell_type": "code",
   "execution_count": 31,
   "metadata": {},
   "outputs": [],
   "source": [
    "data['spindx'].replace(0, np.nan, inplace=True)\n",
    "data['spindx'].fillna(method='ffill', inplace=True)"
   ]
  },
  {
   "cell_type": "code",
   "execution_count": 32,
   "metadata": {},
   "outputs": [],
   "source": [
    "#reshaping prediction value into value range -1 to 1\n",
    "from sklearn.preprocessing import MinMaxScaler"
   ]
  },
  {
   "cell_type": "code",
   "execution_count": 33,
   "metadata": {},
   "outputs": [],
   "source": [
    "def series_to_supervised(data, n_in=1, n_out=1, dropnan=True):\n",
    "    n_vars = 1 if type(data) is list else data.shape[1]\n",
    "    df = pd.DataFrame(data)\n",
    "    cols, names = list(), list()\n",
    "    # input sequence (t-n, ... t-1)\n",
    "    for i in range(n_in, 0, -1):\n",
    "        cols.append(df.shift(i))\n",
    "        names += [('var%d(t-%d)' % (j+1, i)) for j in range(n_vars)]\n",
    "    # forecast sequence (t, t+1, ... t+n)\n",
    "    for i in range(0, n_out):\n",
    "        cols.append(df.shift(-i))\n",
    "        if i == 0:\n",
    "            names += [('var%d(t)' % (j+1)) for j in range(n_vars)]\n",
    "        else:\n",
    "            names += [('var%d(t+%d)' % (j+1, i)) for j in range(n_vars)]\n",
    "    #print(cols)\n",
    "#     # put it all together\n",
    "    agg = pd.concat(cols, axis=1)\n",
    "    agg.columns = names\n",
    "    # drop rows with NaN values\n",
    "    if dropnan:\n",
    "        agg.dropna(inplace=True)\n",
    "    return agg"
   ]
  },
  {
   "cell_type": "markdown",
   "metadata": {},
   "source": [
    "# Data Transformation"
   ]
  },
  {
   "cell_type": "code",
   "execution_count": 34,
   "metadata": {},
   "outputs": [],
   "source": [
    "number_of_variables = 8\n",
    "values = data[['spindx'] + ['TCMNOM_Y2'] + ['TCMNOM_Y10'] + ['DCOILBRENTEU'] + ['GOLDPMGBD228NLBM'] + ['exalus'] + ['exjpus'] + ['exukus']].values\n",
    "values = values.astype('float32')"
   ]
  },
  {
   "cell_type": "code",
   "execution_count": 35,
   "metadata": {},
   "outputs": [],
   "source": [
    "#getting the last 3 days' data\n",
    "historic_data = np.array([])\n",
    "for day in values[-3:]:\n",
    "    #historic_data = np.concatenate((values[-3], values[-2], values[-1]), axis=None)\n",
    "    historic_data = np.concatenate((historic_data, day), axis=None)\n",
    "historic_data = np.append (historic_data, historic_data[0]) #add a dummy for prediction"
   ]
  },
  {
   "cell_type": "code",
   "execution_count": 36,
   "metadata": {},
   "outputs": [],
   "source": [
    "#historic_data"
   ]
  },
  {
   "cell_type": "code",
   "execution_count": 37,
   "metadata": {},
   "outputs": [],
   "source": [
    "#convert data to become supervised \n",
    "look_back = 3 \n",
    "time_steps = 1\n",
    "series_to_supervised(values, look_back, time_steps)\n",
    "reframed = series_to_supervised(values, look_back, time_steps)"
   ]
  },
  {
   "cell_type": "code",
   "execution_count": 38,
   "metadata": {},
   "outputs": [],
   "source": [
    "#look_back = 5\n",
    "number_of_variables = 8\n",
    "#keeping first varible in first period\n",
    "reframed.drop(reframed.columns[-1 * number_of_variables + 1:], axis=1, inplace=True) \n",
    "reframed.drop(reframed.columns[look_back*number_of_variables:-1], axis=1, inplace=True)"
   ]
  },
  {
   "cell_type": "code",
   "execution_count": 39,
   "metadata": {},
   "outputs": [],
   "source": [
    "reframed = reframed.append(dict(zip(reframed.columns, historic_data)), ignore_index=True)\n",
    "#reframed"
   ]
  },
  {
   "cell_type": "code",
   "execution_count": 40,
   "metadata": {
    "scrolled": true
   },
   "outputs": [],
   "source": [
    "scaler = MinMaxScaler(feature_range=(0, 1))\n",
    "scaled_pred = scaler.fit_transform(reframed)"
   ]
  },
  {
   "cell_type": "code",
   "execution_count": 41,
   "metadata": {},
   "outputs": [
    {
     "data": {
      "text/plain": [
       "(7929, 25)"
      ]
     },
     "execution_count": 41,
     "metadata": {},
     "output_type": "execute_result"
    }
   ],
   "source": [
    "scaled_pred.shape"
   ]
  },
  {
   "cell_type": "code",
   "execution_count": 42,
   "metadata": {},
   "outputs": [
    {
     "data": {
      "text/plain": [
       "array([0.91908985, 0.27766392, 0.20090296, 0.48750462, 0.58589085,\n",
       "       0.43241157, 0.44119747, 0.87848608, 0.92966685, 0.27459015,\n",
       "       0.19977429, 0.46088247, 0.59575571, 0.41575062, 0.44036592,\n",
       "       0.8451906 , 0.92327189, 0.2817623 , 0.20880363, 0.45984428,\n",
       "       0.59633417, 0.41411882, 0.44392966, 0.84661354])"
      ]
     },
     "execution_count": 42,
     "metadata": {},
     "output_type": "execute_result"
    }
   ],
   "source": [
    "pred_para = scaled_pred[-1][:-1]\n",
    "pred_para"
   ]
  },
  {
   "cell_type": "code",
   "execution_count": 43,
   "metadata": {},
   "outputs": [],
   "source": [
    "pred_para = pred_para.reshape(1,1,pred_para.shape[0])"
   ]
  },
  {
   "cell_type": "code",
   "execution_count": 44,
   "metadata": {},
   "outputs": [
    {
     "data": {
      "text/plain": [
       "array([[[0.91908985, 0.27766392, 0.20090296, 0.48750462, 0.58589085,\n",
       "         0.43241157, 0.44119747, 0.87848608, 0.92966685, 0.27459015,\n",
       "         0.19977429, 0.46088247, 0.59575571, 0.41575062, 0.44036592,\n",
       "         0.8451906 , 0.92327189, 0.2817623 , 0.20880363, 0.45984428,\n",
       "         0.59633417, 0.41411882, 0.44392966, 0.84661354]]])"
      ]
     },
     "execution_count": 44,
     "metadata": {},
     "output_type": "execute_result"
    }
   ],
   "source": [
    "pred_para"
   ]
  },
  {
   "cell_type": "markdown",
   "metadata": {},
   "source": [
    "# Final Input Data Example"
   ]
  },
  {
   "cell_type": "markdown",
   "metadata": {},
   "source": [
    "# Model 2"
   ]
  },
  {
   "cell_type": "code",
   "execution_count": 166,
   "metadata": {},
   "outputs": [
    {
     "name": "stdout",
     "output_type": "stream",
     "text": [
      "Train on 5549 samples, validate on 2379 samples\n",
      "Epoch 1/40\n",
      "5549/5549 [==============================] - 2s 308us/step - loss: 0.0549 - val_loss: 0.1538\n",
      "\n",
      "Epoch 00001: val_loss improved from inf to 0.15378, saving model to market_lstm_model_weights.hdf5\n",
      "Epoch 2/40\n",
      "5549/5549 [==============================] - 0s 49us/step - loss: 0.1974 - val_loss: 0.1300\n",
      "\n",
      "Epoch 00002: val_loss improved from 0.15378 to 0.13005, saving model to market_lstm_model_weights.hdf5\n",
      "Epoch 3/40\n",
      "5549/5549 [==============================] - 0s 47us/step - loss: 0.1172 - val_loss: 0.0917\n",
      "\n",
      "Epoch 00003: val_loss improved from 0.13005 to 0.09174, saving model to market_lstm_model_weights.hdf5\n",
      "Epoch 4/40\n",
      "5549/5549 [==============================] - 0s 49us/step - loss: 0.0760 - val_loss: 0.0675\n",
      "\n",
      "Epoch 00004: val_loss improved from 0.09174 to 0.06752, saving model to market_lstm_model_weights.hdf5\n",
      "Epoch 5/40\n",
      "5549/5549 [==============================] - 0s 48us/step - loss: 0.0581 - val_loss: 0.0577\n",
      "\n",
      "Epoch 00005: val_loss improved from 0.06752 to 0.05774, saving model to market_lstm_model_weights.hdf5\n",
      "Epoch 6/40\n",
      "5549/5549 [==============================] - 0s 48us/step - loss: 0.0326 - val_loss: 0.0689\n",
      "\n",
      "Epoch 00006: val_loss did not improve from 0.05774\n",
      "Epoch 7/40\n",
      "5549/5549 [==============================] - 0s 48us/step - loss: 0.0282 - val_loss: 0.1170\n",
      "\n",
      "Epoch 00007: val_loss did not improve from 0.05774\n",
      "Epoch 8/40\n",
      "5549/5549 [==============================] - 0s 47us/step - loss: 0.0162 - val_loss: 0.1064\n",
      "\n",
      "Epoch 00008: val_loss did not improve from 0.05774\n",
      "Epoch 9/40\n",
      "5549/5549 [==============================] - 0s 48us/step - loss: 0.0147 - val_loss: 0.1103\n",
      "\n",
      "Epoch 00009: val_loss did not improve from 0.05774\n",
      "Epoch 10/40\n",
      "5549/5549 [==============================] - 0s 49us/step - loss: 0.0189 - val_loss: 0.1426\n",
      "\n",
      "Epoch 00010: val_loss did not improve from 0.05774\n",
      "Epoch 11/40\n",
      "5549/5549 [==============================] - 0s 48us/step - loss: 0.0223 - val_loss: 0.1393\n",
      "\n",
      "Epoch 00011: val_loss did not improve from 0.05774\n",
      "Epoch 12/40\n",
      "5549/5549 [==============================] - 0s 48us/step - loss: 0.0465 - val_loss: 0.1051\n",
      "\n",
      "Epoch 00012: val_loss did not improve from 0.05774\n",
      "Epoch 13/40\n",
      "5549/5549 [==============================] - 0s 48us/step - loss: 0.0324 - val_loss: 0.0723\n",
      "\n",
      "Epoch 00013: val_loss did not improve from 0.05774\n",
      "Epoch 14/40\n",
      "5549/5549 [==============================] - 0s 47us/step - loss: 0.0215 - val_loss: 0.0693\n",
      "\n",
      "Epoch 00014: val_loss did not improve from 0.05774\n",
      "Epoch 15/40\n",
      "5549/5549 [==============================] - 0s 50us/step - loss: 0.0302 - val_loss: 0.0971\n",
      "\n",
      "Epoch 00015: val_loss did not improve from 0.05774\n",
      "Epoch 16/40\n",
      "5549/5549 [==============================] - 0s 51us/step - loss: 0.0208 - val_loss: 0.0932\n",
      "\n",
      "Epoch 00016: val_loss did not improve from 0.05774\n",
      "Epoch 17/40\n",
      "5549/5549 [==============================] - 0s 48us/step - loss: 0.0682 - val_loss: 0.0785\n",
      "\n",
      "Epoch 00017: val_loss did not improve from 0.05774\n",
      "Epoch 18/40\n",
      "5549/5549 [==============================] - 0s 50us/step - loss: 0.0184 - val_loss: 0.0666\n",
      "\n",
      "Epoch 00018: val_loss did not improve from 0.05774\n",
      "Epoch 19/40\n",
      "5549/5549 [==============================] - 0s 52us/step - loss: 0.0300 - val_loss: 0.0572\n",
      "\n",
      "Epoch 00019: val_loss improved from 0.05774 to 0.05724, saving model to market_lstm_model_weights.hdf5\n",
      "Epoch 20/40\n",
      "5549/5549 [==============================] - 0s 52us/step - loss: 0.0356 - val_loss: 0.0839\n",
      "\n",
      "Epoch 00020: val_loss did not improve from 0.05724\n",
      "Epoch 21/40\n",
      "5549/5549 [==============================] - 0s 52us/step - loss: 0.0212 - val_loss: 0.0755\n",
      "\n",
      "Epoch 00021: val_loss did not improve from 0.05724\n",
      "Epoch 22/40\n",
      "5549/5549 [==============================] - 0s 49us/step - loss: 0.0182 - val_loss: 0.0375\n",
      "\n",
      "Epoch 00022: val_loss improved from 0.05724 to 0.03754, saving model to market_lstm_model_weights.hdf5\n",
      "Epoch 23/40\n",
      "5549/5549 [==============================] - 0s 49us/step - loss: 0.0209 - val_loss: 0.0699\n",
      "\n",
      "Epoch 00023: val_loss did not improve from 0.03754\n",
      "Epoch 24/40\n",
      "5549/5549 [==============================] - 0s 48us/step - loss: 0.0112 - val_loss: 0.0798\n",
      "\n",
      "Epoch 00024: val_loss did not improve from 0.03754\n",
      "Epoch 25/40\n",
      "5549/5549 [==============================] - 0s 48us/step - loss: 0.0261 - val_loss: 0.0977\n",
      "\n",
      "Epoch 00025: val_loss did not improve from 0.03754\n",
      "Epoch 26/40\n",
      "5549/5549 [==============================] - 0s 48us/step - loss: 0.0176 - val_loss: 0.0398\n",
      "\n",
      "Epoch 00026: val_loss did not improve from 0.03754\n",
      "Epoch 27/40\n",
      "5549/5549 [==============================] - 0s 47us/step - loss: 0.0175 - val_loss: 0.0506\n",
      "\n",
      "Epoch 00027: val_loss did not improve from 0.03754\n",
      "Epoch 28/40\n",
      "5549/5549 [==============================] - 0s 47us/step - loss: 0.0209 - val_loss: 0.0947\n",
      "\n",
      "Epoch 00028: val_loss did not improve from 0.03754\n",
      "Epoch 29/40\n",
      "5549/5549 [==============================] - 0s 46us/step - loss: 0.0153 - val_loss: 0.0653\n",
      "\n",
      "Epoch 00029: val_loss did not improve from 0.03754\n",
      "Epoch 30/40\n",
      "5549/5549 [==============================] - 0s 46us/step - loss: 0.0576 - val_loss: 0.0602\n",
      "\n",
      "Epoch 00030: val_loss did not improve from 0.03754\n",
      "Epoch 31/40\n",
      "5549/5549 [==============================] - 0s 46us/step - loss: 0.0154 - val_loss: 0.0931\n",
      "\n",
      "Epoch 00031: val_loss did not improve from 0.03754\n",
      "Epoch 32/40\n",
      "5549/5549 [==============================] - 0s 47us/step - loss: 0.0222 - val_loss: 0.0347\n",
      "\n",
      "Epoch 00032: val_loss improved from 0.03754 to 0.03468, saving model to market_lstm_model_weights.hdf5\n",
      "Epoch 33/40\n",
      "5549/5549 [==============================] - 0s 47us/step - loss: 0.0172 - val_loss: 0.0448\n",
      "\n",
      "Epoch 00033: val_loss did not improve from 0.03468\n",
      "Epoch 34/40\n",
      "5549/5549 [==============================] - 0s 47us/step - loss: 0.0309 - val_loss: 0.0615\n",
      "\n",
      "Epoch 00034: val_loss did not improve from 0.03468\n",
      "Epoch 35/40\n",
      "5549/5549 [==============================] - 0s 46us/step - loss: 0.0149 - val_loss: 0.0584\n",
      "\n",
      "Epoch 00035: val_loss did not improve from 0.03468\n",
      "Epoch 36/40\n",
      "5549/5549 [==============================] - 0s 46us/step - loss: 0.0184 - val_loss: 0.0292\n",
      "\n",
      "Epoch 00036: val_loss improved from 0.03468 to 0.02921, saving model to market_lstm_model_weights.hdf5\n",
      "Epoch 37/40\n",
      "5549/5549 [==============================] - 0s 47us/step - loss: 0.0145 - val_loss: 0.0369\n",
      "\n",
      "Epoch 00037: val_loss did not improve from 0.02921\n",
      "Epoch 38/40\n",
      "5549/5549 [==============================] - 0s 47us/step - loss: 0.0115 - val_loss: 0.0567\n",
      "\n",
      "Epoch 00038: val_loss did not improve from 0.02921\n",
      "Epoch 39/40\n",
      "5549/5549 [==============================] - 0s 48us/step - loss: 0.0199 - val_loss: 0.0853\n",
      "\n",
      "Epoch 00039: val_loss did not improve from 0.02921\n",
      "Epoch 40/40\n",
      "5549/5549 [==============================] - 0s 47us/step - loss: 0.0224 - val_loss: 0.0275\n",
      "\n",
      "Epoch 00040: val_loss improved from 0.02921 to 0.02748, saving model to market_lstm_model_weights.hdf5\n"
     ]
    }
   ],
   "source": [
    "multi_model = Sequential()\n",
    "multi_model.add(LSTM(100, input_shape=(train_X.shape[1], train_X.shape[2])))\n",
    "multi_model.add(Dense(1))\n",
    "multi_model.compile(loss='mae', optimizer='adam')\n",
    "\n",
    "# Callbacks\n",
    "from keras.callbacks import ModelCheckpoint\n",
    "\n",
    "weight_path=\"{}_weights.hdf5\".format('market_lstm_model')\n",
    "\n",
    "checkpoint = ModelCheckpoint(weight_path, monitor='val_loss', verbose=1, \n",
    "                             save_best_only=True, mode='min', save_weights_only = False)\n",
    "callbacks_list = [checkpoint]\n",
    "\n",
    "\n",
    "multi_history = multi_model.fit(train_X, train_y, epochs=40, batch_size=150, validation_data=(test_X, test_y), \n",
    "                                verbose=1, shuffle=False, callbacks = callbacks_list)"
   ]
  },
  {
   "cell_type": "code",
   "execution_count": 144,
   "metadata": {},
   "outputs": [
    {
     "data": {
      "image/png": "[encoded data removed]",
      "text/plain": [
       "<Figure size 432x288 with 1 Axes>"
      ]
     },
     "metadata": {
      "needs_background": "light"
     },
     "output_type": "display_data"
    }
   ],
   "source": [
    "#plot result \n",
    "pyplot.plot(multi_history.history['loss'], label='multi_train')\n",
    "pyplot.plot(multi_history.history['val_loss'], label='multi_test')\n",
    "pyplot.legend()\n",
    "pyplot.show()"
   ]
  },
  {
   "cell_type": "markdown",
   "metadata": {},
   "source": [
    "# Load Market and predict"
   ]
  },
  {
   "cell_type": "code",
   "execution_count": 45,
   "metadata": {},
   "outputs": [
    {
     "data": {
      "text/plain": [
       "(1, 1, 24)"
      ]
     },
     "execution_count": 45,
     "metadata": {},
     "output_type": "execute_result"
    }
   ],
   "source": [
    "pred_para.shape"
   ]
  },
  {
   "cell_type": "code",
   "execution_count": 46,
   "metadata": {},
   "outputs": [],
   "source": [
    "#plot prediction\n",
    "from keras.models import load_model\n",
    "\n",
    "multi_model = load_model(\"market_lstm_model_weights.hdf5\")\n",
    "#yhat = multi_model.predict(test_X)\n",
    "yhat = multi_model.predict(pred_para)\n",
    "# pyplot.plot(yhat, label='predict')\n",
    "# pyplot.plot(test_y, label='true')\n",
    "# pyplot.legend()\n",
    "# pyplot.show()"
   ]
  },
  {
   "cell_type": "code",
   "execution_count": 47,
   "metadata": {},
   "outputs": [
    {
     "data": {
      "text/plain": [
       "array([[0.84946907]], dtype=float32)"
      ]
     },
     "execution_count": 47,
     "metadata": {},
     "output_type": "execute_result"
    }
   ],
   "source": [
    "yhat"
   ]
  },
  {
   "cell_type": "code",
   "execution_count": 48,
   "metadata": {},
   "outputs": [
    {
     "data": {
      "text/plain": [
       "(1, 1, 24)"
      ]
     },
     "execution_count": 48,
     "metadata": {},
     "output_type": "execute_result"
    }
   ],
   "source": [
    "pred_para.shape"
   ]
  },
  {
   "cell_type": "code",
   "execution_count": 49,
   "metadata": {},
   "outputs": [
    {
     "data": {
      "text/plain": [
       "(1, 24)"
      ]
     },
     "execution_count": 49,
     "metadata": {},
     "output_type": "execute_result"
    }
   ],
   "source": [
    "pred_para = pred_para.reshape((1,24))\n",
    "pred_para.shape"
   ]
  },
  {
   "cell_type": "code",
   "execution_count": 50,
   "metadata": {},
   "outputs": [
    {
     "data": {
      "text/plain": [
       "array([[0.91908985, 0.27766392, 0.20090296, 0.48750462, 0.58589085,\n",
       "        0.43241157, 0.44119747, 0.87848608, 0.92966685, 0.27459015,\n",
       "        0.19977429, 0.46088247, 0.59575571, 0.41575062, 0.44036592,\n",
       "        0.8451906 , 0.92327189, 0.2817623 , 0.20880363, 0.45984428,\n",
       "        0.59633417, 0.41411882, 0.44392966, 0.84661354]])"
      ]
     },
     "execution_count": 50,
     "metadata": {},
     "output_type": "execute_result"
    }
   ],
   "source": [
    "pred_para"
   ]
  },
  {
   "cell_type": "code",
   "execution_count": 51,
   "metadata": {},
   "outputs": [
    {
     "data": {
      "text/plain": [
       "array([[0.91908985, 0.27766392, 0.20090296, 0.48750462, 0.58589085,\n",
       "        0.43241157, 0.44119747, 0.87848608, 0.92966685, 0.27459015,\n",
       "        0.19977429, 0.46088247, 0.59575571, 0.41575062, 0.44036592,\n",
       "        0.8451906 , 0.92327189, 0.2817623 , 0.20880363, 0.45984428,\n",
       "        0.59633417, 0.41411882, 0.44392966, 0.84661354, 0.84946907]])"
      ]
     },
     "execution_count": 51,
     "metadata": {},
     "output_type": "execute_result"
    }
   ],
   "source": [
    "pred = concatenate((pred_para[:, :], yhat), axis=1)\n",
    "pred"
   ]
  },
  {
   "cell_type": "code",
   "execution_count": 52,
   "metadata": {},
   "outputs": [],
   "source": [
    "inv_pred = scaler.inverse_transform(pred)"
   ]
  },
  {
   "cell_type": "code",
   "execution_count": 53,
   "metadata": {},
   "outputs": [],
   "source": [
    "inv_pred = inv_pred[:,-1]"
   ]
  },
  {
   "cell_type": "code",
   "execution_count": 54,
   "metadata": {},
   "outputs": [
    {
     "data": {
      "text/plain": [
       "array([2523.28835074])"
      ]
     },
     "execution_count": 54,
     "metadata": {},
     "output_type": "execute_result"
    }
   ],
   "source": [
    "inv_pred"
   ]
  }
 ],
 "metadata": {
  "kernelspec": {
   "display_name": "Python 3",
   "language": "python",
   "name": "python3"
  },
  "language_info": {
   "codemirror_mode": {
    "name": "ipython",
    "version": 3
   },
   "file_extension": ".py",
   "mimetype": "text/x-python",
   "name": "python",
   "nbconvert_exporter": "python",
   "pygments_lexer": "ipython3",
   "version": "3.6.8"
  }
 },
 "nbformat": 4,
 "nbformat_minor": 2
}
